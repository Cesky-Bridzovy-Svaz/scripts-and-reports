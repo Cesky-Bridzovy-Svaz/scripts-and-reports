{
 "cells": [
  {
   "cell_type": "markdown",
   "metadata": {},
   "source": [
    "# Znovuotevření sezóny matrikacbs.cz\n",
    "\n",
    "!!!!! VAROVÁNÍ !!!!!\n",
    "\n",
    "Tento skript slouží k znovu otevření sezony v matrice. Upravuje DATA. \n",
    "\n",
    "Před použitím zálohujte databázi.\n",
    "\n",
    "Databázi lze zálohovat pomocí Admin panelu: [wiki.aspone.cz - záloha databáze](https://wiki.aspone.cz/Z%C3%A1loha_datab%C3%A1ze)"
   ]
  },
  {
   "cell_type": "markdown",
   "metadata": {},
   "source": [
    "Poznámky od Michaela H.:\n",
    "> zdar,\n",
    "> tak by mělo stačit jen smazat ten výkonnostní turnaj \n",
    "> https://www.matrikacbs.cz/Detail-turnaje.aspx?id=5373\n",
    "> já jsem to dělal tak, že jsem \n",
    "> - zazálohoval data\n",
    "> - otevřel sezonu (```update sezona set StavOtevrena = 1 where id = 2024```)\n",
    "> - a smazal ten bonus turnaj:  \n",
    "> ```delete ucast where IdSouteziciho in (select id from soutezici where IdTurnaje = 5373)```  \n",
    "> ```delete soutezici where IdTurnaje = 5373```  \n",
    "> ```delete turnaj where Id = 5373```  \n",
    "> ale pokud budete sahat do CBT nebo do MČR, tak se musí ještě otevřít příslušná série a smazat ty bonusové turnaje  "
   ]
  },
  {
   "cell_type": "code",
   "execution_count": 3,
   "metadata": {},
   "outputs": [
    {
     "name": "stdout",
     "output_type": "stream",
     "text": [
      "Successfully connected to the database!\n"
     ]
    }
   ],
   "source": [
    "from src.matrikadb import connect_to_db\n",
    "\n",
    "conn = connect_to_db()"
   ]
  },
  {
   "cell_type": "code",
   "execution_count": 4,
   "metadata": {},
   "outputs": [
    {
     "name": "stdout",
     "output_type": "stream",
     "text": [
      "budeme spoustet tyto dotazy:\n",
      "\n",
      "UPDATE sezona SET StavOtevrena = 1 WHERE id = 2024\n",
      "\n",
      "\n",
      "DELETE FROM ucast \n",
      "WHERE IdSouteziciho IN (\n",
      "    SELECT id FROM soutezici WHERE IdTurnaje = $5373\n",
      ")\n",
      "\n",
      "\n",
      "DELETE FROM soutezici WHERE IdTurnaje = $5373\n",
      "\n",
      "\n",
      "DELETE FROM turnaj WHERE Id = $5373\n",
      "\n"
     ]
    }
   ],
   "source": [
    "query1 = \"\"\"\n",
    "UPDATE sezona SET StavOtevrena = 1 WHERE id = 2024\n",
    "\"\"\"\n",
    "\n",
    "id_turnaje = 5373\n",
    "\n",
    "query2 = f\"\"\"\n",
    "DELETE FROM ucast \n",
    "WHERE IdSouteziciho IN (\n",
    "    SELECT id FROM soutezici WHERE IdTurnaje = {id_turnaje}\n",
    ")\n",
    "\"\"\"\n",
    "\n",
    "query3 = f\"\"\"\n",
    "DELETE FROM soutezici WHERE IdTurnaje = {id_turnaje}\n",
    "\"\"\"\n",
    "\n",
    "query4 = f\"\"\"\n",
    "DELETE FROM turnaj WHERE Id = {id_turnaje}\n",
    "\"\"\"\n",
    "\n",
    "print(\"budeme spoustet tyto dotazy:\")\n",
    "print(query1)\n",
    "print(query2)\n",
    "print(query3)\n",
    "print(query4)"
   ]
  },
  {
   "cell_type": "code",
   "execution_count": 5,
   "metadata": {},
   "outputs": [],
   "source": [
    "with conn.cursor() as cursor:\n",
    "    cursor.execute(query1)\n",
    "    cursor.execute(query2)\n",
    "    cursor.execute(query3)\n",
    "    cursor.execute(query4)\n",
    "    conn.commit()\n",
    "    \n",
    "conn.close()\n"
   ]
  }
 ],
 "metadata": {
  "kernelspec": {
   "display_name": "venv",
   "language": "python",
   "name": "python3"
  },
  "language_info": {
   "codemirror_mode": {
    "name": "ipython",
    "version": 3
   },
   "file_extension": ".py",
   "mimetype": "text/x-python",
   "name": "python",
   "nbconvert_exporter": "python",
   "pygments_lexer": "ipython3",
   "version": "3.13.2"
  }
 },
 "nbformat": 4,
 "nbformat_minor": 2
}
