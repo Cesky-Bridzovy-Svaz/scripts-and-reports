{
 "cells": [
  {
   "cell_type": "code",
   "execution_count": 4,
   "metadata": {},
   "outputs": [
    {
     "name": "stdout",
     "output_type": "stream",
     "text": [
      "Successfully connected to the database!\n"
     ]
    }
   ],
   "source": [
    "from src.matrikadb import connect_to_db\n",
    "\n",
    "db = connect_to_db()"
   ]
  },
  {
   "cell_type": "code",
   "execution_count": 5,
   "metadata": {},
   "outputs": [
    {
     "name": "stdout",
     "output_type": "stream",
     "text": [
      "Schema successfully dumped to schema_dump.sql\n"
     ]
    }
   ],
   "source": [
    "\n",
    "def get_table_schema(cursor, table_name):\n",
    "    # Get column information\n",
    "    columns = cursor.columns(table=table_name).fetchall()\n",
    "    create_table = f\"CREATE TABLE {table_name} (\\n\"\n",
    "    \n",
    "    for i, column in enumerate(columns):\n",
    "        col_name = column[3]  # COLUMN_NAME is at index 3\n",
    "        col_type = column[5]  # TYPE_NAME is at index 5\n",
    "        col_size = column[6]  # COLUMN_SIZE is at index 6\n",
    "        nullable = \"NULL\" if column[10] else \"NOT NULL\"  # NULLABLE is at index 10\n",
    "        \n",
    "        # Handle specific data types\n",
    "        if col_type.lower() in ('varchar', 'nvarchar', 'char', 'nchar'):\n",
    "            col_type = f\"{col_type}({col_size})\"\n",
    "        elif col_type.lower() == 'decimal':\n",
    "            precision = column[6]    # COLUMN_SIZE\n",
    "            scale = column[8]        # DECIMAL_DIGITS is at index 8\n",
    "            col_type = f\"{col_type}({precision},{scale})\"\n",
    "            \n",
    "        create_table += f\"    {col_name} {col_type} {nullable}\"\n",
    "        if i < len(columns) - 1:\n",
    "            create_table += \",\"\n",
    "        create_table += \"\\n\"\n",
    "    \n",
    "    create_table += \");\\n\"\n",
    "    return create_table\n",
    "\n",
    "# ... rest of the code remains the same ...\n",
    "\n",
    "def dump_schema(conn):\n",
    "    cursor = conn.cursor()\n",
    "    schema_sql = []\n",
    "    \n",
    "    # Get all tables\n",
    "    tables = cursor.tables(tableType='TABLE').fetchall()\n",
    "    \n",
    "    for table in tables:\n",
    "        if table.table_type == 'TABLE':  # Skip system tables\n",
    "            table_name = table.table_name\n",
    "            schema_sql.append(f\"\\n-- Table: {table_name}\")\n",
    "            schema_sql.append(get_table_schema(cursor, table_name))\n",
    "            \n",
    "            # Get indexes\n",
    "            cursor.execute(f\"\"\"\n",
    "                SELECT \n",
    "                    i.name AS index_name,\n",
    "                    c.name AS column_name,\n",
    "                    i.is_unique,\n",
    "                    i.is_primary_key\n",
    "                FROM sys.indexes i\n",
    "                INNER JOIN sys.index_columns ic ON i.object_id = ic.object_id AND i.index_id = ic.index_id\n",
    "                INNER JOIN sys.columns c ON ic.object_id = c.object_id AND ic.column_id = c.column_id\n",
    "                WHERE OBJECT_NAME(i.object_id) = '{table_name}'\n",
    "                AND i.name IS NOT NULL\n",
    "            \"\"\")\n",
    "            \n",
    "            for idx in cursor.fetchall():\n",
    "                if idx.is_primary_key:\n",
    "                    schema_sql.append(f\"ALTER TABLE {table_name} ADD PRIMARY KEY ({idx.column_name});\")\n",
    "                elif idx.is_unique:\n",
    "                    schema_sql.append(f\"CREATE UNIQUE INDEX {idx.index_name} ON {table_name}({idx.column_name});\")\n",
    "                else:\n",
    "                    schema_sql.append(f\"CREATE INDEX {idx.index_name} ON {table_name}({idx.column_name});\")\n",
    "    \n",
    "    # Get views\n",
    "    cursor.execute(\"\"\"\n",
    "        SELECT name, definition \n",
    "        FROM sys.objects o \n",
    "        JOIN sys.sql_modules m ON o.object_id = m.object_id\n",
    "        WHERE type = 'V'\n",
    "    \"\"\")\n",
    "    \n",
    "    for view in cursor.fetchall():\n",
    "        schema_sql.append(f\"\\n-- View: {view.name}\")\n",
    "        schema_sql.append(f\"{view.definition}\\n\")\n",
    "    \n",
    "    # Write to file\n",
    "    with open('schema_dump.sql', 'w', encoding='utf-8') as f:\n",
    "        f.write('\\n'.join(schema_sql))\n",
    "\n",
    "# Use your existing connection\n",
    "try:\n",
    "    dump_schema(db)\n",
    "    print(\"Schema successfully dumped to schema_dump.sql\")\n",
    "except Exception as e:\n",
    "    print(f\"Error dumping schema: {e}\")"
   ]
  }
 ],
 "metadata": {
  "kernelspec": {
   "display_name": "venv",
   "language": "python",
   "name": "python3"
  },
  "language_info": {
   "codemirror_mode": {
    "name": "ipython",
    "version": 3
   },
   "file_extension": ".py",
   "mimetype": "text/x-python",
   "name": "python",
   "nbconvert_exporter": "python",
   "pygments_lexer": "ipython3",
   "version": "3.13.2"
  }
 },
 "nbformat": 4,
 "nbformat_minor": 2
}
